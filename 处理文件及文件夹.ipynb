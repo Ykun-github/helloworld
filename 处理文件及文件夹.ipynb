{
 "cells": [
  {
   "cell_type": "code",
   "execution_count": 15,
   "metadata": {},
   "outputs": [],
   "source": [
    "import pandas as pd\n",
    "import os"
   ]
  },
  {
   "cell_type": "code",
   "execution_count": 2,
   "metadata": {},
   "outputs": [],
   "source": [
    "path = r'E:\\脱硝数据分析python\\衡丰\\衡丰20200225-0318\\new\\20200316.csv'\n",
    "file = open(path,'r',encoding='utf-8')\n",
    "f = pd.read_csv(file)\n",
    "file.close()"
   ]
  },
  {
   "cell_type": "code",
   "execution_count": null,
   "metadata": {},
   "outputs": [],
   "source": [
    "# with open as.."
   ]
  },
  {
   "cell_type": "code",
   "execution_count": 7,
   "metadata": {},
   "outputs": [],
   "source": [
    "with open('file2.csv','a',encoding=\"utf-8\")as f:\n",
    "    abc = 'hello world\\nhello world'\n",
    "    f.write(abc)\n",
    "    "
   ]
  },
  {
   "cell_type": "markdown",
   "metadata": {},
   "source": [
    "#创建文件夹"
   ]
  },
  {
   "cell_type": "code",
   "execution_count": 25,
   "metadata": {},
   "outputs": [],
   "source": [
    "if not os.path.exists('E:\\脱硝数据分析python\\衡丰\\新文件夹'):\n",
    "    \n",
    "#     os.mkdir('新文件夹')#创建单层\n",
    "\n",
    "    os.makedirs('E:\\脱硝数据分析python\\衡丰\\新文件夹\\第二层\\第三层')#创建多层"
   ]
  },
  {
   "cell_type": "markdown",
   "metadata": {},
   "source": [
    "#复制文件\n",
    "\n",
    "shutil.copy(要复制的文件，要复制到的位置)"
   ]
  },
  {
   "cell_type": "code",
   "execution_count": 28,
   "metadata": {},
   "outputs": [
    {
     "data": {
      "text/plain": [
       "'E:\\\\脱硝数据分析python\\\\衡丰\\\\新文件夹\\\\第二层\\\\file2.csv'"
      ]
     },
     "execution_count": 28,
     "metadata": {},
     "output_type": "execute_result"
    }
   ],
   "source": [
    "import shutil\n",
    "shutil.copy(r'E:\\脱硝数据分析python\\衡丰\\新文件夹\\file2.csv',r'E:\\脱硝数据分析python\\衡丰\\新文件夹\\第二层')"
   ]
  },
  {
   "cell_type": "markdown",
   "metadata": {},
   "source": [
    "#复制文件夹,包括里面的所有东西\n",
    "\n",
    "shutil.copytree(‘这是一个文件夹’，‘这是一个新的文件夹’)\n"
   ]
  },
  {
   "cell_type": "code",
   "execution_count": null,
   "metadata": {},
   "outputs": [],
   "source": [
    "import shutil\n",
    "shutil.copytree()"
   ]
  },
  {
   "cell_type": "markdown",
   "metadata": {},
   "source": [
    "移动文件或文件夹\n",
    "\n",
    "shutil.move(要移动的文件/文件夹，要移动到的位置)"
   ]
  },
  {
   "cell_type": "code",
   "execution_count": null,
   "metadata": {},
   "outputs": [],
   "source": [
    "shutil.move('文件.csv','这是一个新的文件夹/文件2.csv')#移动到这个路径并重命名为文件2\n",
    "shutil.move('文件.csv','这是一个新的文件夹/.csv')#移动到文件夹后要加/\n",
    "shutil.move('文件.csv','这是一个新的文件夹/.csv')"
   ]
  },
  {
   "cell_type": "markdown",
   "metadata": {},
   "source": [
    "重命名文件、文件夹"
   ]
  },
  {
   "cell_type": "code",
   "execution_count": null,
   "metadata": {},
   "outputs": [],
   "source": [
    "os.rename('','')"
   ]
  },
  {
   "cell_type": "markdown",
   "metadata": {},
   "source": [
    "删除文件"
   ]
  },
  {
   "cell_type": "code",
   "execution_count": null,
   "metadata": {},
   "outputs": [],
   "source": [
    "os.remove('')"
   ]
  },
  {
   "cell_type": "markdown",
   "metadata": {},
   "source": [
    "删除文件夹"
   ]
  },
  {
   "cell_type": "code",
   "execution_count": null,
   "metadata": {},
   "outputs": [],
   "source": [
    "shutil.rmtree('文件夹名称')"
   ]
  }
 ],
 "metadata": {
  "kernelspec": {
   "display_name": "Python 3",
   "language": "python",
   "name": "python3"
  },
  "language_info": {
   "codemirror_mode": {
    "name": "ipython",
    "version": 3
   },
   "file_extension": ".py",
   "mimetype": "text/x-python",
   "name": "python",
   "nbconvert_exporter": "python",
   "pygments_lexer": "ipython3",
   "version": "3.6.4"
  }
 },
 "nbformat": 4,
 "nbformat_minor": 2
}
